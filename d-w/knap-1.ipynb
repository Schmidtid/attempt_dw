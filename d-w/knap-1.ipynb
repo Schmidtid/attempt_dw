{
 "metadata": {
  "language_info": {
   "codemirror_mode": {
    "name": "ipython",
    "version": 3
   },
   "file_extension": ".py",
   "mimetype": "text/x-python",
   "name": "python",
   "nbconvert_exporter": "python",
   "pygments_lexer": "ipython3",
   "version": "3.9.16"
  },
  "orig_nbformat": 4,
  "kernelspec": {
   "name": "python3",
   "display_name": "Python 3.9.16 64-bit"
  },
  "interpreter": {
   "hash": "4cd7ab41f5fca4b9b44701077e38c5ffd31fe66a6cab21e0214b68d958d0e462"
  }
 },
 "nbformat": 4,
 "nbformat_minor": 2,
 "cells": [
  {
   "cell_type": "code",
   "execution_count": 2,
   "metadata": {},
   "outputs": [],
   "source": [
    "import pandas as pd\n",
    "from dwave.system import LeapHybridCQMSampler, LeapHybridDQMSampler\n",
    "from dimod import ConstrainedQuadraticModel, BinaryQuadraticModel, QuadraticModel, DiscreteQuadraticModel"
   ]
  },
  {
   "cell_type": "code",
   "execution_count": 8,
   "metadata": {},
   "outputs": [
    {
     "output_type": "stream",
     "name": "stdout",
     "text": [
      "\nSetting weight capacity to 80% of total: 89\n"
     ]
    }
   ],
   "source": [
    "df = pd.read_csv('/workspace/Attempt_optimizer/attempt_dw/d-w/cost_knpack.csv', names=['cost', 'weight'])\n",
    "capacity = int(0.8 * sum(df['weight']))\n",
    "print(\"\\nSetting weight capacity to 80% of total: {}\".format(str(capacity)))"
   ]
  },
  {
   "cell_type": "code",
   "execution_count": 7,
   "metadata": {},
   "outputs": [
    {
     "output_type": "stream",
     "name": "stderr",
     "text": [
      "643.80s - pydevd: Sending message related to process being replaced timed-out after 5 seconds\n"
     ]
    }
   ],
   "source": [
    "!cd attempt_dw/d-w/"
   ]
  },
  {
   "cell_type": "code",
   "execution_count": 9,
   "metadata": {},
   "outputs": [],
   "source": [
    "def build_knapsack_cqm(costs, weights, max_weight):\n",
    "    \"\"\"Construct a CQM for the knapsack problem.\"\"\"\n",
    "    num_items = len(costs)\n",
    "    print(\"\\nBuilding a CQM for {} items.\".format(str(num_items)))\n",
    "\n",
    "    cqm = ConstrainedQuadraticModel()\n",
    "    obj = BinaryQuadraticModel(vartype='BINARY')\n",
    "    constraint = QuadraticModel()\n",
    "\n",
    "    for i in range(num_items):\n",
    "        # Objective is to maximize the total costs\n",
    "        obj.add_variable(i)\n",
    "        obj.set_linear(i, -costs[i])\n",
    "        # Constraint is to keep the sum of items' weights under or equal capacity\n",
    "        constraint.add_variable('BINARY', i)\n",
    "        constraint.set_linear(i, weights[i])\n",
    "\n",
    "    cqm.set_objective(obj)\n",
    "    cqm.add_constraint(constraint, sense=\"<=\", rhs=max_weight, label='capacity')\n",
    "\n",
    "    return cqm\n",
    "\n",
    "sampler = LeapHybridCQMSampler()"
   ]
  },
  {
   "cell_type": "code",
   "execution_count": 20,
   "metadata": {},
   "outputs": [],
   "source": [
    "cost, weight = [x[0] for x in df.itertuples(index=False, name=None)], [x[0] for x in df.itertuples(index=False, name=None)]"
   ]
  },
  {
   "cell_type": "code",
   "execution_count": 21,
   "metadata": {},
   "outputs": [
    {
     "output_type": "execute_result",
     "data": {
      "text/plain": [
       "[35, 85, 30, 50, 70, 80, 55]"
      ]
     },
     "metadata": {},
     "execution_count": 21
    }
   ],
   "source": []
  },
  {
   "cell_type": "code",
   "execution_count": 23,
   "metadata": {},
   "outputs": [
    {
     "output_type": "stream",
     "name": "stdout",
     "text": [
      "\nBuilding a CQM for 7 items.\nSubmitting CQM to solver hybrid_constrained_quadratic_model_version1.\n"
     ]
    }
   ],
   "source": [
    "cqm = build_knapsack_cqm(cost, weight, capacity)\n",
    "print(\"Submitting CQM to solver {}.\".format(sampler.solver.name))\n",
    "sampleset = sampler.sample_cqm(cqm, label='Example - Knapsack')"
   ]
  },
  {
   "cell_type": "code",
   "execution_count": 26,
   "metadata": {},
   "outputs": [
    {
     "output_type": "stream",
     "name": "stdout",
     "text": [
      "\nFound best solution at energy -85.0\n\nSelected item numbers (0-indexed): [0, 3]\n\nSelected item weights: [12, 17], total = 29\n\nSelected item costs: [35, 50], total = 85\n"
     ]
    }
   ],
   "source": [
    "feasible_sampleset = sampleset.filter(lambda row: row.is_feasible)\n",
    "best = feasible_sampleset.first\n",
    "selected_item = [key for key, val in best.sample.items() if val==1.0]\n",
    "\n",
    "print(f\"\\nFound best solution at energy {(best.energy)}\")\n",
    "print(\"\\nSelected item numbers (0-indexed):\", selected_item)\n",
    "print(f\"\\nSelected item weights: {list(df.weight.loc[selected_item])}, total = {sum(list(df.weight.loc[selected_item]))}\")\n",
    "print(f\"\\nSelected item costs: {list(df.cost.loc[selected_item])}, total = {sum(list(df.cost.loc[selected_item]))}\")"
   ]
  },
  {
   "cell_type": "code",
   "execution_count": 27,
   "metadata": {},
   "outputs": [
    {
     "output_type": "stream",
     "name": "stdout",
     "text": [
      "\nBuilding a CQM for 7 items.\nSubmitting CQM to solver hybrid_constrained_quadratic_model_version1.\n"
     ]
    }
   ],
   "source": [
    "capacity = 30\n",
    "items = [(4, 370), (9, 1950), (10, 3500), (21, 6700), (17, 6100), (3, 800), (27, 8300)]\n",
    "prof = [x[1] for x in items]\n",
    "weight = [x[0] for x in items]\n",
    "cqm_1 = build_knapsack_cqm(prof, weight, capacity)\n",
    "print(\"Submitting CQM to solver {}.\".format(sampler.solver.name))\n",
    "sampleset = sampler.sample_cqm(cqm_1, label='small - Knapsack')"
   ]
  },
  {
   "cell_type": "code",
   "execution_count": 52,
   "metadata": {},
   "outputs": [
    {
     "output_type": "execute_result",
     "data": {
      "text/plain": [
       "SampleSet(rec.array([([0., 0., 1., 0., 1., 1., 0.], -10400., 1, [ True],  True),\n",
       "           ([0., 0., 1., 0., 1., 1., 0.], -10400., 1, [ True],  True),\n",
       "           ([0., 0., 1., 0., 1., 1., 0.], -10400., 1, [ True],  True),\n",
       "           ([0., 0., 1., 0., 1., 1., 0.], -10400., 1, [ True],  True),\n",
       "           ([0., 0., 1., 0., 1., 1., 0.], -10400., 1, [ True],  True),\n",
       "           ([0., 0., 1., 0., 1., 1., 0.], -10400., 1, [ True],  True),\n",
       "           ([0., 0., 1., 0., 1., 1., 0.], -10400., 1, [ True],  True),\n",
       "           ([0., 0., 1., 0., 1., 1., 0.], -10400., 1, [ True],  True),\n",
       "           ([0., 0., 1., 0., 1., 1., 0.], -10400., 1, [ True],  True),\n",
       "           ([0., 0., 1., 0., 1., 0., 0.],  -9600., 1, [ True],  True),\n",
       "           ([0., 0., 1., 0., 1., 1., 0.], -10400., 1, [ True],  True),\n",
       "           ([0., 0., 1., 0., 1., 1., 0.], -10400., 1, [ True],  True),\n",
       "           ([0., 0., 1., 0., 1., 1., 0.], -10400., 1, [ True],  True),\n",
       "           ([0., 0., 1., 0., 1., 1., 0.], -10400., 1, [ True],  True),\n",
       "           ([0., 0., 1., 0., 1., 1., 0.], -10400., 1, [ True],  True),\n",
       "           ([0., 0., 1., 0., 1., 0., 0.],  -9600., 1, [ True],  True),\n",
       "           ([0., 0., 1., 0., 1., 1., 0.], -10400., 1, [ True],  True),\n",
       "           ([0., 0., 1., 0., 1., 1., 0.], -10400., 1, [ True],  True),\n",
       "           ([0., 0., 1., 0., 1., 1., 0.], -10400., 1, [ True],  True),\n",
       "           ([0., 0., 1., 0., 1., 0., 0.],  -9600., 1, [ True],  True),\n",
       "           ([0., 0., 1., 0., 1., 1., 0.], -10400., 1, [ True],  True),\n",
       "           ([0., 0., 1., 0., 1., 1., 0.], -10400., 1, [ True],  True),\n",
       "           ([0., 1., 1., 0., 0., 1., 0.],  -6250., 1, [ True],  True),\n",
       "           ([0., 0., 1., 0., 1., 0., 0.],  -9600., 1, [ True],  True),\n",
       "           ([0., 0., 1., 0., 1., 1., 0.], -10400., 1, [ True],  True),\n",
       "           ([0., 0., 1., 0., 1., 1., 0.], -10400., 1, [ True],  True),\n",
       "           ([0., 0., 1., 0., 1., 1., 0.], -10400., 1, [ True],  True),\n",
       "           ([0., 0., 1., 0., 1., 1., 0.], -10400., 1, [ True],  True),\n",
       "           ([0., 0., 1., 0., 1., 1., 0.], -10400., 1, [ True],  True),\n",
       "           ([0., 0., 1., 0., 1., 1., 0.], -10400., 1, [ True],  True),\n",
       "           ([0., 0., 1., 0., 1., 1., 0.], -10400., 1, [ True],  True),\n",
       "           ([0., 0., 1., 0., 1., 1., 0.], -10400., 1, [ True],  True),\n",
       "           ([0., 0., 1., 0., 1., 1., 0.], -10400., 1, [ True],  True),\n",
       "           ([0., 0., 1., 0., 1., 1., 0.], -10400., 1, [ True],  True),\n",
       "           ([0., 0., 1., 0., 1., 1., 0.], -10400., 1, [ True],  True),\n",
       "           ([0., 0., 1., 0., 1., 1., 0.], -10400., 1, [ True],  True),\n",
       "           ([0., 0., 1., 0., 1., 1., 0.], -10400., 1, [ True],  True),\n",
       "           ([0., 0., 1., 0., 1., 1., 0.], -10400., 1, [ True],  True),\n",
       "           ([0., 0., 1., 0., 1., 1., 0.], -10400., 1, [ True],  True),\n",
       "           ([0., 0., 1., 0., 1., 1., 0.], -10400., 1, [ True],  True),\n",
       "           ([0., 0., 1., 0., 1., 1., 0.], -10400., 1, [ True],  True),\n",
       "           ([0., 0., 1., 0., 1., 1., 0.], -10400., 1, [ True],  True),\n",
       "           ([0., 0., 1., 0., 1., 1., 0.], -10400., 1, [ True],  True),\n",
       "           ([0., 0., 1., 0., 1., 1., 0.], -10400., 1, [ True],  True),\n",
       "           ([0., 0., 1., 0., 1., 1., 0.], -10400., 1, [ True],  True),\n",
       "           ([0., 0., 1., 0., 1., 1., 0.], -10400., 1, [ True],  True),\n",
       "           ([0., 0., 1., 0., 1., 1., 0.], -10400., 1, [ True],  True),\n",
       "           ([0., 0., 1., 0., 1., 1., 0.], -10400., 1, [ True],  True),\n",
       "           ([0., 0., 1., 0., 1., 1., 0.], -10400., 1, [ True],  True),\n",
       "           ([0., 0., 1., 0., 1., 1., 0.], -10400., 1, [ True],  True),\n",
       "           ([0., 0., 1., 0., 1., 1., 0.], -10400., 1, [ True],  True),\n",
       "           ([0., 0., 1., 0., 1., 1., 0.], -10400., 1, [ True],  True),\n",
       "           ([0., 0., 1., 0., 1., 1., 0.], -10400., 1, [ True],  True),\n",
       "           ([0., 0., 1., 0., 1., 1., 0.], -10400., 1, [ True],  True),\n",
       "           ([0., 0., 1., 0., 1., 1., 0.], -10400., 1, [ True],  True),\n",
       "           ([0., 0., 1., 0., 1., 1., 0.], -10400., 1, [ True],  True),\n",
       "           ([0., 0., 1., 0., 1., 1., 0.], -10400., 1, [ True],  True),\n",
       "           ([0., 0., 1., 0., 1., 1., 0.], -10400., 1, [ True],  True),\n",
       "           ([0., 0., 1., 0., 1., 1., 0.], -10400., 1, [ True],  True),\n",
       "           ([0., 0., 1., 0., 1., 1., 0.], -10400., 1, [ True],  True),\n",
       "           ([0., 0., 1., 0., 1., 1., 0.], -10400., 1, [ True],  True),\n",
       "           ([0., 0., 1., 0., 1., 1., 0.], -10400., 1, [ True],  True),\n",
       "           ([0., 0., 1., 0., 1., 1., 0.], -10400., 1, [ True],  True),\n",
       "           ([0., 0., 1., 0., 1., 1., 0.], -10400., 1, [ True],  True),\n",
       "           ([0., 0., 1., 0., 1., 1., 0.], -10400., 1, [ True],  True),\n",
       "           ([0., 0., 1., 0., 1., 1., 0.], -10400., 1, [ True],  True),\n",
       "           ([0., 0., 1., 0., 1., 1., 0.], -10400., 1, [ True],  True),\n",
       "           ([0., 0., 1., 0., 1., 1., 0.], -10400., 1, [ True],  True),\n",
       "           ([0., 0., 1., 0., 1., 1., 0.], -10400., 1, [ True],  True),\n",
       "           ([0., 0., 1., 0., 1., 1., 0.], -10400., 1, [ True],  True),\n",
       "           ([0., 0., 1., 0., 1., 1., 0.], -10400., 1, [ True],  True),\n",
       "           ([0., 0., 1., 0., 1., 1., 0.], -10400., 1, [ True],  True),\n",
       "           ([0., 0., 1., 0., 1., 1., 0.], -10400., 1, [ True],  True),\n",
       "           ([0., 0., 1., 0., 1., 1., 0.], -10400., 1, [ True],  True),\n",
       "           ([0., 0., 1., 0., 1., 1., 0.], -10400., 1, [ True],  True),\n",
       "           ([0., 0., 1., 0., 1., 1., 0.], -10400., 1, [ True],  True),\n",
       "           ([0., 0., 1., 0., 1., 1., 0.], -10400., 1, [ True],  True),\n",
       "           ([0., 0., 1., 0., 1., 1., 0.], -10400., 1, [ True],  True),\n",
       "           ([0., 0., 1., 0., 1., 1., 0.], -10400., 1, [ True],  True),\n",
       "           ([0., 0., 1., 0., 1., 1., 0.], -10400., 1, [ True],  True),\n",
       "           ([0., 0., 1., 0., 1., 1., 0.], -10400., 1, [ True],  True),\n",
       "           ([0., 0., 1., 0., 1., 1., 0.], -10400., 1, [ True],  True),\n",
       "           ([0., 0., 1., 0., 1., 1., 0.], -10400., 1, [ True],  True),\n",
       "           ([0., 0., 1., 0., 1., 1., 0.], -10400., 1, [ True],  True),\n",
       "           ([0., 0., 1., 0., 1., 1., 0.], -10400., 1, [ True],  True),\n",
       "           ([0., 0., 1., 0., 1., 1., 0.], -10400., 1, [ True],  True),\n",
       "           ([0., 0., 1., 0., 1., 1., 0.], -10400., 1, [ True],  True),\n",
       "           ([0., 0., 1., 0., 1., 1., 0.], -10400., 1, [ True],  True),\n",
       "           ([0., 0., 1., 0., 1., 1., 0.], -10400., 1, [ True],  True),\n",
       "           ([0., 0., 1., 0., 1., 1., 0.], -10400., 1, [ True],  True),\n",
       "           ([0., 0., 0., 0., 0., 1., 1.],  -9100., 1, [ True],  True),\n",
       "           ([0., 0., 0., 0., 0., 1., 1.],  -9100., 1, [ True],  True),\n",
       "           ([0., 0., 0., 0., 0., 1., 1.],  -9100., 1, [ True],  True),\n",
       "           ([0., 1., 0., 1., 0., 0., 0.],  -8650., 1, [ True],  True),\n",
       "           ([0., 1., 0., 1., 0., 0., 0.],  -8650., 1, [ True],  True),\n",
       "           ([0., 1., 0., 1., 0., 0., 0.],  -8650., 1, [ True],  True),\n",
       "           ([0., 1., 0., 1., 0., 0., 0.],  -8650., 1, [ True],  True),\n",
       "           ([0., 1., 0., 1., 0., 0., 0.],  -8650., 1, [ True],  True),\n",
       "           ([0., 1., 0., 1., 0., 0., 0.],  -8650., 1, [ True],  True),\n",
       "           ([0., 1., 0., 1., 0., 0., 0.],  -8650., 1, [ True],  True),\n",
       "           ([0., 1., 0., 1., 0., 0., 0.],  -8650., 1, [ True],  True),\n",
       "           ([0., 1., 0., 1., 0., 0., 0.],  -8650., 1, [ True],  True),\n",
       "           ([0., 1., 1., 0., 1., 0., 0.], -11550., 1, [False], False),\n",
       "           ([0., 1., 1., 0., 1., 0., 0.], -11550., 1, [False], False),\n",
       "           ([0., 1., 1., 0., 1., 0., 0.], -11550., 1, [False], False),\n",
       "           ([0., 1., 1., 0., 1., 0., 0.], -11550., 1, [False], False),\n",
       "           ([0., 1., 1., 0., 1., 0., 0.], -11550., 1, [False], False),\n",
       "           ([1., 0., 1., 0., 1., 0., 0.],  -9970., 1, [False], False),\n",
       "           ([1., 0., 1., 0., 1., 0., 0.],  -9970., 1, [False], False),\n",
       "           ([1., 0., 1., 0., 1., 0., 0.],  -9970., 1, [False], False),\n",
       "           ([1., 0., 1., 0., 1., 0., 0.],  -9970., 1, [False], False),\n",
       "           ([1., 0., 1., 0., 1., 0., 0.],  -9970., 1, [False], False),\n",
       "           ([1., 0., 1., 0., 1., 0., 0.],  -9970., 1, [False], False),\n",
       "           ([0., 1., 0., 1., 0., 1., 0.],  -9450., 1, [False], False),\n",
       "           ([0., 1., 0., 1., 0., 1., 0.],  -9450., 1, [False], False),\n",
       "           ([0., 1., 0., 1., 0., 1., 0.],  -9450., 1, [False], False),\n",
       "           ([0., 1., 0., 1., 0., 1., 0.],  -9450., 1, [False], False),\n",
       "           ([0., 1., 0., 1., 0., 1., 0.],  -9450., 1, [False], False),\n",
       "           ([0., 1., 0., 1., 0., 1., 0.],  -9450., 1, [False], False),\n",
       "           ([1., 0., 0., 0., 0., 0., 1.],  -8670., 1, [False], False)],\n",
       "          dtype=[('sample', '<f8', (7,)), ('energy', '<f8'), ('num_occurrences', '<i8'), ('is_satisfied', '?', (1,)), ('is_feasible', '?')]), Variables([0, 1, 2, 3, 4, 5, 6]), {'constraint_labels': ['capacity'], 'qpu_access_time': 31811, 'charge_time': 5000000, 'run_time': 5105914, 'problem_id': '52711f75-9663-40d1-b43f-d21f197b7c2c', 'problem_label': 'small - Knapsack'}, 'INTEGER')"
      ]
     },
     "metadata": {},
     "execution_count": 52
    }
   ],
   "source": [
    "sampleset"
   ]
  },
  {
   "cell_type": "code",
   "execution_count": 28,
   "metadata": {},
   "outputs": [],
   "source": [
    "feasible = sampleset.filter(lambda row: row.is_feasible)\n",
    "best_find = feasible.first\n",
    "item = [key for key, val in best_find.sample.items() if val==1.0]"
   ]
  },
  {
   "cell_type": "code",
   "execution_count": 29,
   "metadata": {},
   "outputs": [
    {
     "output_type": "stream",
     "name": "stdout",
     "text": [
      "\nFound best solution with energy -10400.0\nSelected item numbers (0-indexed): [2, 4, 5]\n"
     ]
    }
   ],
   "source": [
    "print(f'\\nFound best solution with energy {(best_find.energy)}'+\n",
    "      f'\\nSelected item numbers (0-indexed): {item}')"
   ]
  },
  {
   "cell_type": "code",
   "execution_count": 30,
   "metadata": {},
   "outputs": [
    {
     "output_type": "stream",
     "name": "stdout",
     "text": [
      "Choosen weight: [10, 17, 3], total=30\nAnd there costs: [3500, 6100, 800], total=10400\n"
     ]
    }
   ],
   "source": [
    "print(f'Choosen weight: {[weight[i] for i in item]}, total={sum([weight[i] for i in item])}\\n'+\n",
    "      f'And there costs: {[prof[i] for i in item]}, total={sum([prof[i] for i in item])}')"
   ]
  },
  {
   "source": [
    "### Attempt with anouther Hamiltonian"
   ],
   "cell_type": "markdown",
   "metadata": {}
  },
  {
   "cell_type": "code",
   "execution_count": 3,
   "metadata": {},
   "outputs": [],
   "source": [
    "def build_knapsack_dqm(costs, weights, numbers, capacity):\n",
    "  \"\"\"Construct DQM for the knapsack problem\n",
    "    Args:\n",
    "        costs (array-like):\n",
    "            Array of costs associated with the items\n",
    "        weights (array-like):\n",
    "            Array of weights associated with the items\n",
    "        numbers (array-like):\n",
    "            Array of maximum quantity of each item that is available\n",
    "        capacity (int):\n",
    "            Maximum allowable weight\n",
    "    Returns:\n",
    "        Discrete quadratic model instance\n",
    "  \"\"\"\n",
    "  # intialize DQM\n",
    "  dqm = DiscreteQuadraticModel()\n",
    "  const = max(costs)\n",
    "  \n",
    "  # Build the DQM starting by adding variables\n",
    "  for item in range(len(costs)):\n",
    "      dqm.add_variable(numbers[item] + 1, label = 'x' + str(item))\n",
    "  # add y\n",
    "  dqm.add_variable(capacity, label = 'y')\n",
    "  # Hamiltonian xi terms\n",
    "  for k in range(len(costs)):\n",
    "      dqm.set_linear('x' + str(k), [-costs[k] * i + const * pow(weights[k],2) * pow(i,2) for i in range(numbers[k] + 1)])\n",
    "\n",
    "  # Hamiltonian xi-xj terms\n",
    "  for i in range(len(costs)):\n",
    "        for j in range(i + 1, len(costs)):\n",
    "            xixj_values = [[xi * xj * 2 * const * weights[i] * weights[j] for xi in range(numbers[i] + 1)] for xj in range(numbers[j] + 1)]\n",
    "            dqm.set_quadratic('x' + str(i), 'x' + str(j), xixj_values)\n",
    "\n",
    "  # Hamiltonian y-y term\n",
    "  dqm.set_linear('y', [const * pow(i,2) for i in range(1,capacity + 1)])\n",
    "  # Hamiltonian x-y terms\n",
    "  for i in range(len(costs)):\n",
    "    xy_values = [[-2 * const * weights[i] * x * y for x in range(numbers[i] + 1)] for y in range(1,capacity + 1)]\n",
    "    dqm.set_quadratic('x' + str(i), 'y', xy_values)\n",
    "\n",
    "  return dqm"
   ]
  },
  {
   "cell_type": "code",
   "execution_count": 62,
   "metadata": {},
   "outputs": [],
   "source": [
    "capacit = 89"
   ]
  },
  {
   "cell_type": "code",
   "execution_count": 63,
   "metadata": {},
   "outputs": [],
   "source": [
    "df['num'] = [3,2,4,1,4,3,1]\n",
    "dqm = build_knapsack_dqm(df.cost.to_list(),df.weight.to_list(),df.num.to_list(),capacit)\n",
    "sampler2 = LeapHybridDQMSampler()\n",
    "response = sampler2.sample_dqm(dqm, label='Example_2 - Knapsack')"
   ]
  },
  {
   "cell_type": "code",
   "execution_count": 51,
   "metadata": {},
   "outputs": [
    {
     "output_type": "execute_result",
     "data": {
      "text/plain": [
       "SampleSet(rec.array([([ 0,  0,  0,  0,  1,  3,  1, 29], -209890., 1),\n",
       "           ([ 0,  0,  0,  0,  1,  1,  1, 29], -374630., 1),\n",
       "           ([ 0,  0,  0,  0,  1,  1,  1, 29], -374630., 1),\n",
       "           ([ 0,  0,  0,  0,  1,  1,  1, 29], -374630., 1),\n",
       "           ([ 0,  0,  0,  0,  1,  1,  1, 29], -374630., 1),\n",
       "           ([ 0,  0,  0,  0,  1,  1,  1, 29], -374630., 1),\n",
       "           ([ 0,  0,  0,  0,  1,  1,  1, 29], -374630., 1),\n",
       "           ([ 0,  0,  0,  0,  1,  1,  1, 29], -374630., 1),\n",
       "           ([ 0,  0,  0,  0,  1,  1,  1, 29], -374630., 1),\n",
       "           ([ 0,  0,  0,  0,  1,  1,  1, 29], -374630., 1),\n",
       "           ([ 0,  0,  0,  0,  1,  1,  1, 29], -374630., 1),\n",
       "           ([ 0,  0,  0,  0,  1,  1,  1, 29], -374630., 1),\n",
       "           ([ 0,  0,  0,  0,  1,  1,  1, 29], -374630., 1),\n",
       "           ([ 0,  0,  0,  0,  1,  1,  1, 29], -374630., 1),\n",
       "           ([ 0,  0,  0,  0,  1,  1,  1, 29], -374630., 1),\n",
       "           ([ 0,  0,  0,  0,  1,  1,  1, 29], -374630., 1),\n",
       "           ([ 0,  0,  0,  0,  1,  1,  1, 29], -374630., 1),\n",
       "           ([ 0,  0,  0,  0,  1,  1,  1, 29], -374630., 1),\n",
       "           ([ 0,  0,  0,  0,  1,  1,  1, 29], -374630., 1),\n",
       "           ([ 0,  0,  0,  0,  1,  1,  1, 29], -374630., 1),\n",
       "           ([ 0,  0,  0,  0,  1,  1,  1, 29], -374630., 1),\n",
       "           ([ 0,  0,  0,  0,  1,  1,  1, 29], -374630., 1),\n",
       "           ([ 0,  0,  0,  0,  1,  1,  1, 29], -374630., 1),\n",
       "           ([ 0,  0,  0,  0,  1,  1,  1, 29], -374630., 1),\n",
       "           ([ 0,  0,  0,  0,  1,  1,  1, 29], -374630., 1),\n",
       "           ([ 0,  0,  0,  0,  1,  1,  1, 29], -374630., 1),\n",
       "           ([ 0,  0,  0,  0,  1,  1,  1, 29], -374630., 1),\n",
       "           ([ 0,  0,  0,  0,  1,  1,  1, 29], -374630., 1),\n",
       "           ([ 0,  0,  0,  0,  1,  1,  1, 29], -374630., 1),\n",
       "           ([ 0,  0,  0,  0,  1,  1,  1, 29], -374630., 1),\n",
       "           ([ 0,  0,  0,  0,  1,  1,  1, 29], -374630., 1),\n",
       "           ([ 0,  0,  0,  0,  1,  1,  1, 29], -374630., 1),\n",
       "           ([ 0,  0,  0,  0,  1,  1,  1, 29], -374630., 1),\n",
       "           ([ 0,  0,  0,  0,  1,  1,  1, 29], -374630., 1),\n",
       "           ([ 0,  0,  0,  0,  1,  1,  1, 29], -374630., 1),\n",
       "           ([ 0,  0,  0,  0,  1,  1,  1, 29], -374630., 1),\n",
       "           ([ 0,  0,  0,  0,  1,  1,  1, 29], -374630., 1),\n",
       "           ([ 0,  0,  0,  0,  1,  1,  1, 29], -374630., 1),\n",
       "           ([ 0,  0,  0,  0,  1,  1,  1, 29], -374630., 1),\n",
       "           ([ 0,  0,  0,  0,  1,  1,  1, 29], -374630., 1),\n",
       "           ([ 0,  0,  0,  0,  1,  1,  1, 29], -374630., 1),\n",
       "           ([ 0,  0,  0,  0,  1,  1,  1, 29], -374630., 1),\n",
       "           ([ 0,  0,  0,  0,  1,  1,  1, 29], -374630., 1),\n",
       "           ([ 0,  0,  0,  0,  1,  1,  1, 29], -374630., 1),\n",
       "           ([ 0,  0,  0,  0,  1,  1,  1, 29], -374630., 1),\n",
       "           ([ 0,  0,  0,  0,  1,  1,  1, 29], -374630., 1),\n",
       "           ([ 0,  0,  0,  0,  1,  1,  1, 29], -374630., 1),\n",
       "           ([ 0,  0,  0,  0,  1,  1,  1, 29], -374630., 1),\n",
       "           ([ 0,  0,  0,  0,  1,  1,  1, 29], -374630., 1),\n",
       "           ([ 0,  0,  0,  0,  1,  1,  1, 29], -374630., 1),\n",
       "           ([ 0,  0,  0,  0,  1,  1,  1, 29], -374630., 1),\n",
       "           ([ 0,  0,  0,  0,  1,  1,  1, 29], -374630., 1),\n",
       "           ([ 0,  0,  0,  0,  1,  1,  1, 29], -374630., 1),\n",
       "           ([ 0,  0,  0,  0,  1,  1,  1, 29], -374630., 1),\n",
       "           ([ 0,  0,  0,  0,  1,  1,  1, 29], -374630., 1),\n",
       "           ([ 0,  0,  0,  0,  1,  1,  1, 29], -374630., 1),\n",
       "           ([ 0,  0,  0,  0,  1,  1,  1, 29], -374630., 1),\n",
       "           ([ 0,  0,  0,  0,  1,  1,  1, 29], -374630., 1),\n",
       "           ([ 0,  0,  0,  0,  1,  1,  1, 29], -374630., 1),\n",
       "           ([ 0,  0,  0,  0,  1,  1,  1, 29], -374630., 1),\n",
       "           ([ 0,  0,  0,  0,  1,  1,  1, 29], -374630., 1),\n",
       "           ([ 0,  0,  0,  0,  1,  1,  1, 29], -374630., 1),\n",
       "           ([ 0,  0,  0,  0,  1,  1,  1, 29], -374630., 1),\n",
       "           ([ 0,  0,  0,  0,  1,  1,  1, 29], -374630., 1),\n",
       "           ([ 0,  0,  0,  0,  1,  1,  1, 29], -374630., 1)],\n",
       "          dtype=[('sample', '<i4', (8,)), ('energy', '<f8'), ('num_occurrences', '<i8')]), Variables(['x0', 'x1', 'x2', 'x3', 'x4', 'x5', 'x6', 'y']), {'qpu_access_time': 15901, 'charge_time': 4299472, 'run_time': 4299472, 'problem_id': '1e04cd18-477b-48f8-949a-97578dbcca27', 'problem_label': 'Example_1 - Knapsack'}, 'INTEGER')"
      ]
     },
     "metadata": {},
     "execution_count": 51
    }
   ],
   "source": [
    "response"
   ]
  },
  {
   "cell_type": "code",
   "execution_count": 68,
   "metadata": {},
   "outputs": [
    {
     "output_type": "stream",
     "name": "stdout",
     "text": [
      "Sample: {'x0': 2, 'x1': 2, 'x2': 2, 'x3': 0, 'x4': 2, 'x5': 2, 'x6': 0, 'y': 61} with energy: -1238200.0\n"
     ]
    }
   ],
   "source": [
    "sample = response.first.sample\n",
    "energy = response.first.energy\n",
    "print(f'Sample: {sample} with energy: {energy}')"
   ]
  },
  {
   "cell_type": "code",
   "execution_count": 70,
   "metadata": {},
   "outputs": [
    {
     "output_type": "execute_result",
     "data": {
      "text/plain": [
       "SampleSet(rec.array([([ 2,  2,  2,  0,  2,  2,  0, 61], -1238200., 1),\n",
       "           ([ 2,  2,  2,  0,  2,  2,  0, 61], -1238200., 1),\n",
       "           ([ 2,  2,  2,  0,  2,  2,  0, 61], -1238200., 1),\n",
       "           ([ 2,  2,  2,  0,  2,  2,  0, 61], -1238200., 1),\n",
       "           ([ 2,  2,  2,  0,  2,  2,  0, 61], -1238200., 1),\n",
       "           ([ 2,  2,  2,  0,  2,  2,  0, 61], -1238200., 1),\n",
       "           ([ 2,  2,  2,  0,  2,  2,  0, 61], -1238200., 1),\n",
       "           ([ 2,  2,  2,  0,  2,  2,  0, 61], -1238200., 1),\n",
       "           ([ 2,  2,  2,  0,  2,  2,  0, 61], -1238200., 1),\n",
       "           ([ 2,  2,  2,  0,  2,  2,  0, 61], -1238200., 1),\n",
       "           ([ 2,  2,  2,  0,  2,  2,  0, 61], -1238200., 1),\n",
       "           ([ 2,  2,  2,  0,  2,  2,  0, 61], -1238200., 1),\n",
       "           ([ 2,  2,  2,  0,  2,  2,  0, 61], -1238200., 1),\n",
       "           ([ 2,  2,  2,  0,  2,  2,  0, 61], -1238200., 1),\n",
       "           ([ 2,  2,  2,  0,  2,  2,  0, 61], -1238200., 1),\n",
       "           ([ 2,  2,  2,  0,  2,  2,  0, 61], -1238200., 1),\n",
       "           ([ 2,  2,  2,  0,  2,  2,  0, 61], -1238200., 1),\n",
       "           ([ 2,  2,  2,  0,  2,  2,  0, 61], -1238200., 1),\n",
       "           ([ 2,  2,  2,  0,  2,  2,  0, 61], -1238200., 1),\n",
       "           ([ 2,  2,  2,  0,  2,  2,  0, 61], -1238200., 1),\n",
       "           ([ 2,  2,  2,  0,  2,  2,  0, 61], -1238200., 1),\n",
       "           ([ 2,  2,  2,  0,  2,  2,  0, 61], -1238200., 1),\n",
       "           ([ 2,  2,  2,  0,  2,  2,  0, 61], -1238200., 1),\n",
       "           ([ 2,  2,  2,  0,  2,  2,  0, 61], -1238200., 1),\n",
       "           ([ 2,  2,  2,  0,  2,  2,  0, 61], -1238200., 1),\n",
       "           ([ 2,  2,  2,  0,  2,  2,  0, 61], -1238200., 1),\n",
       "           ([ 2,  2,  2,  0,  2,  2,  0, 61], -1238200., 1),\n",
       "           ([ 2,  2,  2,  0,  2,  2,  0, 61], -1238200., 1),\n",
       "           ([ 2,  2,  2,  0,  2,  2,  0, 61], -1238200., 1),\n",
       "           ([ 2,  2,  2,  0,  2,  2,  0, 61], -1238200., 1),\n",
       "           ([ 2,  2,  2,  0,  2,  2,  0, 61], -1238200., 1),\n",
       "           ([ 2,  2,  2,  0,  2,  2,  0, 61], -1238200., 1),\n",
       "           ([ 2,  2,  2,  0,  2,  2,  0, 61], -1238200., 1),\n",
       "           ([ 2,  2,  2,  0,  2,  2,  0, 61], -1238200., 1),\n",
       "           ([ 2,  2,  2,  0,  2,  2,  0, 61], -1238200., 1),\n",
       "           ([ 2,  2,  2,  0,  2,  2,  0, 61], -1238200., 1),\n",
       "           ([ 2,  2,  2,  0,  2,  2,  0, 61], -1238200., 1),\n",
       "           ([ 2,  2,  2,  0,  2,  2,  0, 61], -1238200., 1),\n",
       "           ([ 2,  2,  2,  0,  2,  2,  0, 61], -1238200., 1),\n",
       "           ([ 2,  2,  2,  0,  2,  2,  0, 61], -1238200., 1),\n",
       "           ([ 2,  2,  2,  0,  2,  2,  0, 61], -1238200., 1),\n",
       "           ([ 2,  2,  2,  0,  2,  2,  0, 61], -1238200., 1),\n",
       "           ([ 2,  2,  2,  0,  2,  2,  0, 61], -1238200., 1),\n",
       "           ([ 2,  2,  2,  0,  2,  2,  0, 61], -1238200., 1),\n",
       "           ([ 2,  2,  2,  0,  2,  2,  0, 61], -1238200., 1),\n",
       "           ([ 2,  2,  2,  0,  2,  2,  0, 61], -1238200., 1),\n",
       "           ([ 2,  2,  2,  0,  2,  2,  0, 61], -1238200., 1),\n",
       "           ([ 2,  2,  2,  0,  2,  2,  0, 61], -1238200., 1),\n",
       "           ([ 2,  2,  2,  0,  2,  2,  0, 61], -1238200., 1),\n",
       "           ([ 2,  2,  2,  0,  2,  2,  0, 61], -1238200., 1),\n",
       "           ([ 2,  2,  2,  0,  2,  2,  0, 61], -1238200., 1),\n",
       "           ([ 2,  2,  2,  0,  2,  2,  0, 61], -1238200., 1),\n",
       "           ([ 2,  2,  2,  0,  2,  2,  0, 61], -1238200., 1),\n",
       "           ([ 0,  1,  1,  1,  1,  2,  1, 60], -1044675., 1),\n",
       "           ([ 0,  1,  1,  1,  1,  2,  1, 60], -1044675., 1),\n",
       "           ([ 0,  1,  1,  1,  1,  2,  1, 60], -1044675., 1),\n",
       "           ([ 0,  1,  1,  1,  1,  2,  1, 60], -1044675., 1),\n",
       "           ([ 0,  1,  1,  1,  1,  2,  1, 60], -1044675., 1),\n",
       "           ([ 0,  1,  1,  1,  1,  2,  1, 60], -1044675., 1),\n",
       "           ([ 0,  1,  1,  1,  1,  2,  1, 60], -1044675., 1),\n",
       "           ([ 0,  1,  1,  1,  1,  2,  1, 60], -1044675., 1),\n",
       "           ([ 0,  1,  1,  0,  1,  2,  0, 45], -1007595., 1),\n",
       "           ([ 0,  1,  1,  0,  1,  2,  0, 45], -1007595., 1),\n",
       "           ([ 0,  1,  1,  0,  1,  2,  0, 45], -1007595., 1),\n",
       "           ([ 0,  1,  1,  0,  1,  2,  0, 45], -1007595., 1)],\n",
       "          dtype=[('sample', '<i4', (8,)), ('energy', '<f8'), ('num_occurrences', '<i8')]), Variables(['x0', 'x1', 'x2', 'x3', 'x4', 'x5', 'x6', 'y']), {'qpu_access_time': 15901, 'charge_time': 4326119, 'run_time': 4326119, 'problem_id': '913becbc-a788-4915-9910-dc09344817ad', 'problem_label': 'Example_2 - Knapsack'}, 'INTEGER')"
      ]
     },
     "metadata": {},
     "execution_count": 70
    }
   ],
   "source": [
    "response"
   ]
  },
  {
   "cell_type": "code",
   "execution_count": 71,
   "metadata": {},
   "outputs": [],
   "source": [
    "selected = {}\n",
    "for varname, value in sample.items():\n",
    "    if (value>1) and varname.startswith('x'):\n",
    "        selected[int(varname[1:])] = value"
   ]
  },
  {
   "cell_type": "code",
   "execution_count": 72,
   "metadata": {},
   "outputs": [
    {
     "output_type": "execute_result",
     "data": {
      "text/plain": [
       "{0: 2, 1: 2, 2: 2, 4: 2, 5: 2}"
      ]
     },
     "metadata": {},
     "execution_count": 72
    }
   ],
   "source": [
    "selected"
   ]
  },
  {
   "cell_type": "code",
   "execution_count": 73,
   "metadata": {},
   "outputs": [
    {
     "output_type": "stream",
     "name": "stdout",
     "text": [
      "\nFound best solution at energy -1238200.0\n\nSelected item numbers (0-indexed): [0, 1, 2, 4, 5]\n\nSelected item weights: [12, 27, 11, 20, 10], total = 80\n\nSelected item costs: [35, 85, 30, 70, 80], total = 300\n"
     ]
    }
   ],
   "source": [
    "selected_item = [key for key, val in selected.items() if val==2.0]\n",
    "\n",
    "best = feasible_sampleset.first\n",
    "print(f\"\\nFound best solution at energy {(energy)}\")\n",
    "print(\"\\nSelected item numbers (0-indexed):\", selected_item)\n",
    "print(f\"\\nSelected item weights: {list(df.weight.loc[selected_item])}, total = {sum(list(df.weight.loc[selected_item]))}\")\n",
    "print(f\"\\nSelected item costs: {list(df.cost.loc[selected_item])}, total = {sum(list(df.cost.loc[selected_item]))}\")"
   ]
  },
  {
   "cell_type": "code",
   "execution_count": 8,
   "metadata": {},
   "outputs": [
    {
     "output_type": "stream",
     "name": "stdout",
     "text": [
      "Submitting DQM to solver hybrid_discrete_quadratic_model_version1.\n"
     ]
    }
   ],
   "source": [
    "capacity = 30\n",
    "items = [(4, 370), (9, 1950), (10, 3500), (21, 6700), (17, 6100), (3, 800), (27, 8300)]\n",
    "prof = [x[1] for x in items]\n",
    "weight = [x[0] for x in items]\n",
    "dqm_1 = build_knapsack_dqm(prof,weight,[5,5,4,4,3,6,1],capacity)\n",
    "sampler3 = LeapHybridDQMSampler()\n",
    "response = sampler3.sample_dqm(dqm_1, label='small_1 - Knapsack')\n",
    "print(\"Submitting DQM to solver {}.\".format(sampler3.solver.name))"
   ]
  },
  {
   "cell_type": "code",
   "execution_count": 9,
   "metadata": {},
   "outputs": [
    {
     "output_type": "execute_result",
     "data": {
      "text/plain": [
       "SampleSet(rec.array([([ 1,  1,  1,  0,  1,  1,  1, 29], -33619420., 1),\n",
       "           ([ 1,  1,  1,  0,  1,  1,  1, 29], -33619420., 1),\n",
       "           ([ 1,  1,  1,  0,  1,  1,  1, 29], -33619420., 1),\n",
       "           ([ 1,  1,  1,  0,  1,  1,  1, 29], -33619420., 1),\n",
       "           ([ 1,  1,  1,  0,  1,  1,  1, 29], -33619420., 1),\n",
       "           ([ 1,  1,  1,  0,  1,  1,  1, 29], -33619420., 1),\n",
       "           ([ 1,  1,  1,  0,  1,  1,  1, 29], -33619420., 1),\n",
       "           ([ 1,  1,  1,  0,  1,  1,  1, 29], -33619420., 1),\n",
       "           ([ 1,  1,  1,  0,  1,  1,  1, 29], -33619420., 1),\n",
       "           ([ 1,  1,  1,  0,  1,  1,  1, 29], -33619420., 1),\n",
       "           ([ 1,  1,  1,  0,  1,  1,  1, 29], -33619420., 1),\n",
       "           ([ 1,  1,  1,  0,  1,  1,  1, 29], -33619420., 1),\n",
       "           ([ 1,  1,  1,  0,  1,  1,  1, 29], -33619420., 1),\n",
       "           ([ 1,  1,  1,  0,  1,  1,  1, 29], -33619420., 1),\n",
       "           ([ 1,  1,  1,  0,  1,  1,  1, 29], -33619420., 1),\n",
       "           ([ 1,  1,  1,  0,  1,  1,  1, 29], -33619420., 1),\n",
       "           ([ 1,  1,  1,  0,  1,  1,  1, 29], -33619420., 1),\n",
       "           ([ 1,  1,  1,  0,  1,  1,  1, 29], -33619420., 1),\n",
       "           ([ 1,  1,  1,  0,  1,  1,  1, 29], -33619420., 1),\n",
       "           ([ 1,  1,  1,  0,  1,  1,  1, 29], -33619420., 1),\n",
       "           ([ 1,  1,  1,  0,  1,  1,  1, 29], -33619420., 1),\n",
       "           ([ 1,  1,  1,  0,  1,  1,  1, 29], -33619420., 1),\n",
       "           ([ 1,  1,  1,  0,  1,  1,  1, 29], -33619420., 1),\n",
       "           ([ 1,  1,  1,  0,  1,  1,  1, 29], -33619420., 1),\n",
       "           ([ 1,  1,  1,  0,  1,  1,  1, 29], -33619420., 1),\n",
       "           ([ 1,  1,  1,  0,  1,  1,  1, 29], -33619420., 1),\n",
       "           ([ 1,  1,  1,  0,  1,  1,  1, 29], -33619420., 1),\n",
       "           ([ 1,  1,  1,  0,  1,  1,  1, 29], -33619420., 1),\n",
       "           ([ 1,  1,  1,  0,  1,  1,  1, 29], -33619420., 1),\n",
       "           ([ 1,  1,  1,  0,  1,  1,  1, 29], -33619420., 1),\n",
       "           ([ 1,  1,  1,  0,  1,  1,  1, 29], -33619420., 1),\n",
       "           ([ 1,  1,  1,  0,  1,  1,  1, 29], -33619420., 1),\n",
       "           ([ 1,  1,  1,  0,  1,  1,  1, 29], -33619420., 1),\n",
       "           ([ 1,  1,  1,  0,  1,  1,  1, 29], -33619420., 1),\n",
       "           ([ 1,  1,  1,  0,  1,  1,  1, 29], -33619420., 1),\n",
       "           ([ 1,  1,  1,  0,  1,  1,  1, 29], -33619420., 1),\n",
       "           ([ 1,  1,  1,  0,  1,  1,  1, 29], -33619420., 1),\n",
       "           ([ 1,  1,  1,  0,  1,  1,  1, 29], -33619420., 1),\n",
       "           ([ 1,  1,  1,  0,  1,  1,  1, 29], -33619420., 1),\n",
       "           ([ 1,  1,  1,  0,  1,  1,  1, 29], -33619420., 1),\n",
       "           ([ 1,  1,  1,  0,  1,  1,  1, 29], -33619420., 1),\n",
       "           ([ 1,  1,  1,  0,  1,  1,  1, 29], -33619420., 1),\n",
       "           ([ 1,  1,  1,  0,  1,  1,  1, 29], -33619420., 1),\n",
       "           ([ 1,  1,  1,  0,  1,  1,  1, 29], -33619420., 1),\n",
       "           ([ 1,  1,  1,  0,  1,  1,  1, 29], -33619420., 1),\n",
       "           ([ 1,  1,  1,  0,  1,  1,  1, 29], -33619420., 1),\n",
       "           ([ 1,  1,  1,  0,  1,  1,  1, 29], -33619420., 1),\n",
       "           ([ 1,  1,  1,  0,  1,  1,  1, 29], -33619420., 1),\n",
       "           ([ 1,  1,  1,  0,  1,  1,  1, 29], -33619420., 1),\n",
       "           ([ 1,  1,  1,  0,  1,  1,  1, 29], -33619420., 1),\n",
       "           ([ 1,  1,  1,  0,  1,  1,  1, 29], -33619420., 1),\n",
       "           ([ 1,  1,  0,  1,  1,  1,  1, 29], -33531320., 1),\n",
       "           ([ 1,  1,  0,  1,  1,  1,  1, 29], -33531320., 1),\n",
       "           ([ 1,  1,  0,  1,  1,  1,  1, 29], -33531320., 1),\n",
       "           ([ 1,  1,  0,  1,  1,  1,  1, 29], -33531320., 1),\n",
       "           ([ 1,  1,  0,  1,  1,  1,  1, 29], -33531320., 1),\n",
       "           ([ 1,  1,  0,  1,  1,  1,  1, 29], -33531320., 1),\n",
       "           ([ 1,  1,  0,  1,  1,  1,  1, 29], -33531320., 1),\n",
       "           ([ 1,  1,  0,  1,  1,  1,  1, 29], -33531320., 1),\n",
       "           ([ 1,  1,  0,  1,  1,  1,  1, 29], -33531320., 1),\n",
       "           ([ 1,  1,  0,  1,  1,  1,  1, 29], -33531320., 1),\n",
       "           ([ 1,  1,  0,  1,  1,  1,  1, 29], -33531320., 1),\n",
       "           ([ 1,  1,  0,  1,  1,  1,  1, 29], -33531320., 1),\n",
       "           ([ 1,  1,  0,  1,  1,  1,  1, 29], -33531320., 1),\n",
       "           ([ 1,  1,  0,  1,  1,  1,  1, 29], -33531320., 1),\n",
       "           ([ 1,  1,  0,  1,  1,  1,  1, 29], -33531320., 1)],\n",
       "          dtype=[('sample', '<i4', (8,)), ('energy', '<f8'), ('num_occurrences', '<i8')]), Variables(['x0', 'x1', 'x2', 'x3', 'x4', 'x5', 'x6', 'y']), {'qpu_access_time': 31691, 'charge_time': 4810794, 'run_time': 4810794, 'problem_id': '0b3a1d9c-6823-4da9-b234-b13d5ad5f0e5', 'problem_label': 'small_1 - Knapsack'}, 'INTEGER')"
      ]
     },
     "metadata": {},
     "execution_count": 9
    }
   ],
   "source": [
    "response"
   ]
  },
  {
   "cell_type": "code",
   "execution_count": 14,
   "metadata": {},
   "outputs": [
    {
     "output_type": "stream",
     "name": "stdout",
     "text": [
      "\nFound best solution at energy -33619420.0\n\nSelected item numbers (0-indexed): [0, 1, 2, 4, 5, 6]\nChoosen weight: [4, 9, 10, 17, 3, 27], total=70\nAnd there costs: [370, 1950, 3500, 6100, 800, 8300], total=21020\n"
     ]
    }
   ],
   "source": [
    "sample = response.first.sample\n",
    "energy = response.first.energy\n",
    "selected = {}\n",
    "for varname, value in sample.items():\n",
    "    if (value>0) and varname.startswith('x'):\n",
    "        selected[int(varname[1:])] = value\n",
    "\n",
    "selected_item = [key for key, val in selected.items() if val==1.0]\n",
    "print(f\"\\nFound best solution at energy {(energy)}\")\n",
    "print(\"\\nSelected item numbers (0-indexed):\", selected_item)\n",
    "print(f'Choosen weight: {[weight[i] for i in selected_item]}, total={sum([weight[i] for i in selected_item])}\\n'+\n",
    "      f'And there costs: {[prof[i] for i in selected_item]}, total={sum([prof[i] for i in selected_item])}')"
   ]
  },
  {
   "cell_type": "code",
   "execution_count": 13,
   "metadata": {},
   "outputs": [
    {
     "output_type": "execute_result",
     "data": {
      "text/plain": [
       "{0: 1, 1: 1, 2: 1, 4: 1, 5: 1, 6: 1}"
      ]
     },
     "metadata": {},
     "execution_count": 13
    }
   ],
   "source": [
    " selected"
   ]
  },
  {
   "cell_type": "code",
   "execution_count": null,
   "metadata": {},
   "outputs": [],
   "source": [
    "number_of_items = list(selected_items.values())\n",
    "[selected_weights[i]*number_of_items[i] for i in range(len(selected_weights))]"
   ]
  }
 ]
}